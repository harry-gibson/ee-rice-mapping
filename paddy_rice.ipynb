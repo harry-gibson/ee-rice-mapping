{
 "cells": [
  {
   "cell_type": "code",
   "execution_count": 19,
   "metadata": {},
   "outputs": [],
   "source": [
    "import ee\n",
    "from functools import partial"
   ]
  },
  {
   "cell_type": "code",
   "execution_count": 3,
   "metadata": {},
   "outputs": [],
   "source": [
    "ee.Initialize()"
   ]
  },
  {
   "cell_type": "code",
   "execution_count": 4,
   "metadata": {},
   "outputs": [],
   "source": [
    "YEAR_TO_MAP = 2002"
   ]
  },
  {
   "cell_type": "code",
   "execution_count": 5,
   "metadata": {},
   "outputs": [],
   "source": [
    "_years = ee.List.sequence(YEAR_TO_MAP-1, YEAR_TO_MAP)\n",
    "\n",
    "\n",
    "_start_date = ee.Date.fromYMD(YEAR_TO_MAP-1, 1, 1)\n",
    "_end_date = ee.Date.fromYMD(YEAR_TO_MAP, 12, 31)"
   ]
  },
  {
   "cell_type": "code",
   "execution_count": 6,
   "metadata": {},
   "outputs": [],
   "source": [
    "mod09a1_full = ee.ImageCollection(\"MODIS/006/MOD09A1\")\n",
    "mod09a1 = mod09a1_full.filterDate(_start_date, _end_date)\n",
    "MODIS_COLLECTION=mod09a1\n",
    "MODIS_LANDCOVER = ee.ImageCollection(\"MODIS/006/MCD12Q1\")"
   ]
  },
  {
   "cell_type": "markdown",
   "metadata": {},
   "source": [
    "Get the various dates that are needed to filter the imagery for the different steps\n",
    "\n",
    "The rice calculation algorithm needs input images for 40 days before the first date for which output is required, and for each input image we need to have the corresponding full calendar year's worth of data to compute the masking. So, to complete the rice map for a given year, we also need the previous year's data."
   ]
  },
  {
   "cell_type": "markdown",
   "metadata": {},
   "source": [
    "### MOD09A1 NORMALISED INDEX COMPUTATION FUNCTIONS \n",
    "Define functions to compute the various normalised indices used in the algorithm, on a single\n",
    "MOD09A1 image."
   ]
  },
  {
   "cell_type": "code",
   "execution_count": 7,
   "metadata": {},
   "outputs": [],
   "source": [
    "def unScale(image):\n",
    "    return image.float().divide(10000)\n",
    "\n",
    "def computeNDVI(image):\n",
    "    nir = unScale(image.select('sur_refl_b02'))\n",
    "    red = unScale(image.select('sur_refl_b01'))\n",
    "    ndvi = (nir.subtract(red)).divide(nir.add(red))\n",
    "    return ndvi.rename('ndvi').set('system:time_start', image.get('system:time_start'))\n",
    "\n",
    "def computeLSWI(image):\n",
    "    nir = unScale(image.select('sur_refl_b02'))\n",
    "    swir = unScale(image.select('sur_refl_b06'))\n",
    "    lswi = (nir.subtract(swir)).divide(nir.add(swir))\n",
    "    return lswi.rename('lswi').set('system:time_start', image.get('system:time_start'))\n",
    "\n",
    "def computeEVI(image):\n",
    "    nir = unScale(image.select('sur_refl_b02'))\n",
    "    red = unScale(image.select('sur_refl_b01'))\n",
    "    blue = unScale(image.select('sur_refl_b03'))\n",
    "    evi = (nir.subtract(red)\n",
    "        .divide(nir.add(red.multiply(6.0)).subtract(blue.multiply(7.5)).add(1.0))\n",
    "        .multiply(2.5)\n",
    "        .clamp(0.0, 1.0))\n",
    "    return evi.rename('evi').set('system:time_start', image.get('system:time_start'))\n",
    "\n",
    "def computeNDSI(image):\n",
    "    # the referenced paper used nir band but most other references use swir\n",
    "    # for example doi:10.1016/j.rse.2003.10.016\n",
    "    # Doing it with nir and a threshold of snow = 0.4+ gives completely nonsense results\n",
    "    # so i assume this was a misprint\n",
    "    nir = unScale(image.select('sur_refl_b02'))\n",
    "    swir = unScale(image.select('sur_refl_b06'))\n",
    "    green = unScale(image.select('sur_refl_b04'))\n",
    "    ndsi = (green.subtract(swir)).divide(green.add(swir))\n",
    "    return ndsi.rename('ndsi').set('system:time_start', image.get('system:time_start'))\n"
   ]
  },
  {
   "cell_type": "markdown",
   "metadata": {},
   "source": [
    "### ALGORITHM STEPS EXTRACTED FROM NARRATIVE OF THE PAPER\n",
    "\n",
    "Steps are numbered according to how they appear in the text but are not executed in this order.\n",
    "\n",
    "#### **#1.** Compute flooded areas \n",
    "\n",
    "Defined as pixels where LSWI is nearly as high, or higher, than NDVI or EVI\n"
   ]
  },
  {
   "cell_type": "code",
   "execution_count": 8,
   "metadata": {},
   "outputs": [],
   "source": [
    "def computeFlooded(image):\n",
    "    lswi = computeLSWI(image)\n",
    "    evi = computeEVI(image)\n",
    "    ndvi = computeNDVI(image)\n",
    "    test = evi.min(ndvi)\n",
    "    flood = lswi.add(0.05).gte(test)\n",
    "    return flood.rename('flood').set('system:time_start', image.get('system:time_start'))"
   ]
  },
  {
   "cell_type": "markdown",
   "metadata": {},
   "source": [
    "### **#2.** Define a procedure to determine whether rice growth occurs in (a) pixel\n",
    "\n",
    "The algorithm is based on the assumption that the EVI value of a true rice pixel reaches half the maximum EVI value (in that crop cycle) within 5 x 8-day composites (40 days) following the date of flooding and transplanting.\n",
    "\n",
    "This needs breaking down into several steps:\n",
    "\n",
    "****************** These stages are implemented further below *****************\n",
    "\n",
    "**2. a.** Identify dates when flooding occurs (relative to a previous image that was not flooded)\n",
    "\n",
    "**2. b.** Identify maximum EVI values reached by each pixel in each crop cycle (or, let's say ever)\n",
    "\n",
    "**2. c.** Identify locations / times where the EVI was at least half of this maximum value\n",
    "\n",
    "**2. d.** Identify from these locations/times the ones which are within 40 days of a flooding date\n"
   ]
  },
  {
   "cell_type": "markdown",
   "metadata": {},
   "source": [
    "### **#3.** Cloud cover mask\n",
    "\n",
    "\"*Exclude pixels where marked as cloud in the QC band, and also exclude pixels where blue band \n",
    "reflectance GTE 0.2*\"\n",
    "\n",
    "This description is somewhat inconclusive of what they actually did. From the MODIS doc: \n",
    "    \n",
    "    ```bits 0-1 are a cloud mask read from MOD35 and bit 10 is a cloud mask generated by PGE11's\n",
    "    internal cloud algorithm```\n",
    "    \n",
    "Xiao et al does not specify which of these masks was used so we'll extract each mask from the data \n",
    "(using bitwise operators) and mask where either is true (boolean OR)\n",
    "   \n"
   ]
  },
  {
   "cell_type": "code",
   "execution_count": 9,
   "metadata": {},
   "outputs": [],
   "source": [
    "\n",
    "def computeCloudOrBlueMask(image):\n",
    "    \"\"\" Identify pixels where either MODIS cloud mask is set OR blue band >= 0.2\n",
    "\n",
    "    NB returns 0 where cloudy and 1 otherwise, for use with updateMask\"\"\"\n",
    "    blue = unScale(image.select('sur_refl_b03'))\n",
    "    # from MODIS doc: \"All cloud information should be derived from State QA SDSs\" (not the band qa)\n",
    "    # So we select that band and for clarity separate it into two separate mask images\n",
    "    qa = image.select('StateQA')\n",
    "    # bits 0-1 are one of the recorded cloud masks with the following values: \n",
    "    # 00 = clear, 01 = cloudy, 10 = mixed, 11 = unset, assumed clear\n",
    "    cloudMOD35 = (qa.bitwise_and(3).eq(1)).Or(qa.bitwise_and(3).eq(1))\n",
    "    # bit 10 is the other recorded cloud mask with key: 0 = clear, 1 = cloud\n",
    "    cloudInternal = qa.bitwise_and(1024).eq(1024)\n",
    "    return (cloudMOD35\n",
    "        .Or(cloudInternal)\n",
    "        .Not()\n",
    "        # turned the blue check off for the time being as it doesn't appear necessary and it marks clouds \n",
    "        # in the middle of clear deserts\n",
    "        .Or(blue.gte(0.2)) \n",
    "        .rename('cloud').set('system_time_start', image.get('system:time_start')))\n",
    "\n",
    "def computeCloudMODISMask(image):\n",
    "    qa = image.select('StateQA');\n",
    "    # from MODIS doc: \"bits 0-1 are a cloud mask read from MOD35\"\n",
    "    # bits 0-1 key: 00 = clear, 01 = cloudy, 10 = mixed, 11 = unset, assumed clear\n",
    "    cloudMOD35 = (qa.bitwise_and(3).eq(1)).Or(qa.bitwise_and(3).eq(1));\n",
    "    return (cloudMOD35\n",
    "        .Not()\n",
    "        .rename('cloud').set('system_time_start', image.get('system:time_start')))\n",
    "\n",
    "def computeCloudInternalMask(image):\n",
    "    qa = image.select('StateQA')\n",
    "    # from MODIS doc: \"bit 10 is a cloud mask generated by PGE11's internal cloud algorithm\"\n",
    "    # bit 10 key: 0 = clear, 1 = cloud\n",
    "    cloudInternal = qa.bitwise_and(1024).eq(1024)\n",
    "    return (cloudInternal\n",
    "        .Not()\n",
    "        .rename('cloud').set('system_time_start', image.get('system:time_start')))\n"
   ]
  },
  {
   "cell_type": "markdown",
   "metadata": {},
   "source": [
    "### **#4.** Snow mask\n",
    "\n",
    "\"*Filter snow pixels based on NDSI and NIR reflectance, where NDSI > 0.40 and NIR > 0.11\"\n",
    "\n",
    "NB NDSI has been implemented using SWIR band, not NIR, but Xiao et al state NIR - this appears \n",
    "wrong. Unsure if we should also use SWIR in the additional check here.\n",
    "\n",
    "NB - Returns 0 where snow and 1 otherwise, for use with updateMask"
   ]
  },
  {
   "cell_type": "code",
   "execution_count": 10,
   "metadata": {},
   "outputs": [],
   "source": [
    "def compute_snow_mask(image):\n",
    "    ndsi = computeNDSI(image)\n",
    "    nir = image.select('sur_refl_b02')\n",
    "    snow = ndsi.gte(0.40).bitwise_and(nir.gte(0.11)).Not()\n",
    "    return snow.rename('snow').set('system:time_start', image.get('system:time_start'))"
   ]
  },
  {
   "cell_type": "markdown",
   "metadata": {},
   "source": [
    "### **5. a.** Identify water areas \n",
    "\n",
    "*Flag pixels as water where NDVI < 0.10 and NDVI < LSWI*\n",
    "\n",
    "It's unclear from the paper why they don't simply use the \"flooded\" function that was defined in step 1, rather than redefining a slightly different version that doesn't use EVI."
   ]
  },
  {
   "cell_type": "code",
   "execution_count": 11,
   "metadata": {},
   "outputs": [],
   "source": [
    "def compute_water(image):\n",
    "    lswi = computeLSWI(image)\n",
    "    ndvi = computeNDVI(image)\n",
    "    water = ndvi.lt(0.1).And(ndvi.lt(lswi))\n",
    "    return water.rename('water').set('system:time_start', image.get('system:time_start'))"
   ]
  },
  {
   "cell_type": "markdown",
   "metadata": {},
   "source": [
    "Define static masks based on elevation, slope and ocean"
   ]
  },
  {
   "cell_type": "code",
   "execution_count": 12,
   "metadata": {},
   "outputs": [],
   "source": [
    "elev_image = ee.Image(\"USGS/GTOPO30\")\n",
    "elev_mask = elev_image.lte(2000)\n",
    "\n",
    "slope_mask = ee.Terrain.slope(elev_image).lte(3)\n",
    "\n",
    "def get_landcover_water_mask(year):\n",
    "    modis_landcover_coll = ee.ImageCollection(\"MODIS/006/MCD12Q1\")\n",
    "    modis_lc_image = (modis_landcover_coll.filter(ee.Filter.calendarRange(\n",
    "                     year, year, 'year'))\n",
    "                     .first())\n",
    "    igbp_image = modis_lc_image.select('LC_Type1')\n",
    "    ocean_mask = igbp_image.neq(17)\n",
    "    return ocean_mask\n",
    "\n",
    "ocean_mask = get_landcover_water_mask(YEAR_TO_MAP)"
   ]
  },
  {
   "cell_type": "code",
   "execution_count": 15,
   "metadata": {},
   "outputs": [],
   "source": [
    "def apply_all_modis_masks(img):\n",
    "    cloud_mask_internal = computeCloudInternalMask(img) # 1 = clear 0 = cloud\n",
    "    cloud_mask_modis = computeCloudMODISMask(img) # 1 = clear 0 = cloud\n",
    "    # 0 = cloud, only when both masks say cloud, slightly confusing negation\n",
    "    cloud_mask_both = cloud_mask_internal.Or(cloud_mask_modis) \n",
    "    snow_mask = compute_snow_mask(img)\n",
    "    return (img.set('year', ee.Date(img.get('system:time_start')).get('year'))\n",
    "        .updateMask(ocean_mask)\n",
    "        .updateMask(elev_mask)\n",
    "        .updateMask(slope_mask)\n",
    "        .updateMask(cloud_mask_both)\n",
    "        .updateMask(snow_mask))\n"
   ]
  },
  {
   "cell_type": "code",
   "execution_count": 16,
   "metadata": {},
   "outputs": [],
   "source": [
    "masked_modis_series = MODIS_COLLECTION.map(apply_all_modis_masks)"
   ]
  },
  {
   "cell_type": "markdown",
   "metadata": {},
   "source": [
    "## Define time-series analysis functions\n",
    "\n",
    "The functions defined so far each operate on a single image at once. Now we define functions that rely on the image series.\n",
    "\n",
    "### **5. b.** Permanent water mask\n",
    "\n",
    "*Identify pixels covered by water, then exclude from the analysis those pixels which are water for more than 10 images (8 day blocks) i.e. 80 days per year*\n",
    "\n",
    "Any pixels identified as water covered for mor than this will be treated as permanent water and not analysed for the wetting/drying cycle that triggers rice detection. \n",
    "\n",
    "I've modified this to also flag pixels which are water for more than 30% of the images, in case there are many missing values and the hardcoded 10-occurrence threshold isn't valid.\n",
    "\n",
    "Note that the .map() function needs a callable which takes one argument. To map over a list of years for a specified ImageCollection we need to pass both the ImageCollection and a reference to the year in question. We use `functools.partial` to convert the two-argument function and its first argument (the imagecollection) into a second function taking only one argument (the year), by creatin a closure. This can be used within an EE map, over the years."
   ]
  },
  {
   "cell_type": "code",
   "execution_count": 21,
   "metadata": {},
   "outputs": [],
   "source": [
    "def get_annual_permanent_water(collection, year):\n",
    "    \"\"\"Returns a mask image to select pixels which are water in >10 images AND >30% of them\"\"\"\n",
    "    start = ee.Date.fromYMD(year, 1, 1)\n",
    "    # this approach enables us to use non-calendar years e.g. april-april or whatever\n",
    "    stop = start.advance(0, 'year').advance(12, 'month').advance(0,'day')\n",
    "    waterYear = (collection.filter(ee.Filter.date(start, stop))\n",
    "        .map(compute_water))\n",
    "    waterYearCount = waterYear.sum()\n",
    "    waterYearMean = waterYear.mean()\n",
    "    # let's also try to implement a threshold for the average because the count will vary \n",
    "    w = waterYearCount.gt(10).And(waterYearMean.gt(0.3))\n",
    "    return (w.set('year', year)\n",
    "        .set('system:time_end',ee.Date.fromYMD(year, 1, 1).advance(1, 'year'))\n",
    "        .set('system:time_start',ee.Date.fromYMD(year, 1, 1))\n",
    "        .Not())"
   ]
  },
  {
   "cell_type": "code",
   "execution_count": 22,
   "metadata": {},
   "outputs": [],
   "source": [
    "year_watermask_mapper = partial(get_annual_permanent_water, masked_modis_series)\n",
    "\n",
    "permanent_water_mask_by_year = ee.ImageCollection.fromImages(\n",
    "    _years.map(year_watermask_mapper).flatten())"
   ]
  },
  {
   "cell_type": "markdown",
   "metadata": {},
   "source": [
    "### **6.** Mask out evergreen vegetation\n",
    "\n",
    "**6. a.** Identify evergreen forest pixels using the algorithm:\n",
    "\n",
    "    \"*Identify areas where NDVI > 0.7 for at least 20 8-day composites per year, to flag evergreen forests*\"\n"
   ]
  },
  {
   "cell_type": "code",
   "execution_count": 23,
   "metadata": {},
   "outputs": [],
   "source": [
    "def get_year_is_evergreen(collection, year):\n",
    "    start = ee.Date.fromYMD(year, 1, 1)\n",
    "    stop = start.advance(12, 'month').advance(0, 'day')\n",
    "    ndviGreenYearColl = (collection.filter(ee.Filter.date(start, stop))\n",
    "          .map(lambda img: computeNDVI(img).gt(0.7))\n",
    "    )\n",
    "    ndviGreenYearCount = ndviGreenYearColl.sum()\n",
    "    # ndviGreenYearMean = ndviGreenYearColl.mean()\n",
    "    # TODO - maybe a mean value too if n is say between 10 and 20? \n",
    "    forestYear = ndviGreenYearCount.gt(20).rename(\"maybeForest\")\n",
    "    return (forestYear.set('year', year)\n",
    "        .set('system:time_end',ee.Date.fromYMD(year, 1, 1).advance(1, 'year'))\n",
    "        .set('system:time_start',ee.Date.fromYMD(year, 1, 1)))\n",
    "    "
   ]
  },
  {
   "cell_type": "code",
   "execution_count": 24,
   "metadata": {},
   "outputs": [],
   "source": [
    "year_evergreen_mapper = partial(get_year_is_evergreen, masked_modis_series)\n",
    "evergreen_forest_by_year = ee.ImageCollection.fromImages(\n",
    "    _years.map(year_evergreen_mapper).flatten())"
   ]
  },
  {
   "cell_type": "markdown",
   "metadata": {},
   "source": [
    "**6. b.** Identify non-forest evergreen pixels using the algorithm:\n",
    "\n",
    "    \"*Identify areas where LSWI is always GTE 0.10, to flag natural evergreen (non forest) vegetation*\"\n",
    "    \n",
    "NB: This has been tuned by the authors for the original study area; it may not be globally suitable!\n"
   ]
  },
  {
   "cell_type": "code",
   "execution_count": 25,
   "metadata": {},
   "outputs": [],
   "source": [
    "def get_year_is_evergreen_nonforest(collection, year):\n",
    "    start = ee.Date.fromYMD(year, 1, 1)\n",
    "    stop = start.advance(12, 'month').advance(0, 'day')\n",
    "    shrubby_year_img = (collection.filter(ee.Filter.date(start, stop))\n",
    "          .map(lambda img: computeLSWI(img).gte(0.1))\n",
    "    ).reduce(ee.Reducer.allNonZero()).rename(\"maybeShrubbery\")\n",
    "    return (shrubby_year_img.set('year', year)\n",
    "        .set('system:time_end',ee.Date.fromYMD(year, 1, 1).advance(1, 'year'))\n",
    "        .set('system:time_start',ee.Date.fromYMD(year, 1, 1)))\n",
    "    "
   ]
  },
  {
   "cell_type": "code",
   "execution_count": 26,
   "metadata": {},
   "outputs": [],
   "source": [
    "year_shrubbery_mapper = partial(get_year_is_evergreen_nonforest, masked_modis_series)\n",
    "shrubbery_by_year = ee.ImageCollection.fromImages(\n",
    "    _years.map(year_shrubbery_mapper).flatten())"
   ]
  },
  {
   "cell_type": "markdown",
   "metadata": {},
   "source": [
    "Combine the two types of evergreen estimate into a single image per year"
   ]
  },
  {
   "cell_type": "code",
   "execution_count": 27,
   "metadata": {},
   "outputs": [],
   "source": [
    "def combine_evergreen_estimates(image):\n",
    "    forest_band = image.select(\"maybeForest\")\n",
    "    shrubbery_band = image.select(\"maybeShrubbery\")\n",
    "    return (forest_band.Or(shrubbery_band)\n",
    "            .rename(\"evergreen\")\n",
    "            .set('system:time_end',image.get('system:time_end'))\n",
    "            .set('system:time_start',image.get('system:time_start'))\n",
    "            .set('year', image.get('year'))\n",
    "            .Not())\n",
    "\n",
    "evergreen_mask_by_year = (evergreen_forest_by_year\n",
    "                         .combine(shrubbery_by_year)\n",
    "                         .map(lambda img: combine_evergreen_estimates(img)))"
   ]
  },
  {
   "cell_type": "markdown",
   "metadata": {},
   "source": [
    "**6. c.** Combine all the annual masks into one image per year\n",
    "\n",
    "For each year, combine the evergreen and permanent water masks derived above into a single 2-band image, and make them into a collection with one such image per year"
   ]
  },
  {
   "cell_type": "code",
   "execution_count": 28,
   "metadata": {},
   "outputs": [],
   "source": [
    "annual_masks = permanent_water_mask_by_year.combine(evergreen_mask_by_year)"
   ]
  },
  {
   "cell_type": "markdown",
   "metadata": {},
   "source": [
    "**6. d.** Extra step (not in paper): make a forest mask from the MODIS landcover data\n",
    "\n",
    "For each annual landcover (MCD12Q1) image, select the IGBP classes representing forest and use these as an additional masking step as well as the forest estimates based on reflectance indices above"
   ]
  },
  {
   "cell_type": "code",
   "execution_count": 29,
   "metadata": {},
   "outputs": [],
   "source": [
    "def get_mcd12q1_forest(image):\n",
    "    igbp = image.select('LC_Type1')\n",
    "    # igbp evergreen forest classes 1, 2; deciduous classes 3, 4, mixed forest class 5\n",
    "    year = ee.Date(image.get('system:time_start')).get('year')\n",
    "    igbpForest = igbp.eq(1).Or(igbp.eq(2)).Or(igbp.eq(3)).Or(igbp.eq(4)).Or(igbp.eq(5))\n",
    "    return (igbpForest\n",
    "        .rename('evergreen_landcover')\n",
    "        .set('system:time_start',image.get('system:time_start'))\n",
    "        .set('year', year)\n",
    "        .Not())\n",
    "annual_mcd12q1_forest = MODIS_LANDCOVER.map(get_mcd12q1_forest)"
   ]
  },
  {
   "cell_type": "markdown",
   "metadata": {},
   "source": [
    "Because this comes from a different dataset to the other masks, the images have different IDs and so we cannot use the .combine() function to join them into a single mask dataset.\n",
    "\n",
    "Instead, we define a join that will combine them based on the year property:"
   ]
  },
  {
   "cell_type": "code",
   "execution_count": 30,
   "metadata": {},
   "outputs": [],
   "source": [
    "get_annual_LC_join = ee.Join.saveBest(**{\n",
    "  \"matchKey\": \"lcImage\",\n",
    "  \"measureKey\": \"yearDiff\"\n",
    "})\n",
    "\n",
    "landcover_join_result = get_annual_LC_join.apply(**{\n",
    "  \"primary\": annual_masks,\n",
    "  \"secondary\": annual_mcd12q1_forest,\n",
    "  \"condition\": ee.Filter.maxDifference(**{\n",
    "    \"difference\": 5, # allow some offset as we may have more recent rice images than landcover ones\n",
    "    \"leftField\": \"year\",\n",
    "    \"rightField\": \"year\"\n",
    "  })\n",
    "})\n",
    "\n",
    "# The join saves the matched LC image as a property on the incoming image, not as a band.\n",
    "# We need to transfer it to a band:\n",
    "def extract_lc_joinresult(image):\n",
    "    lc_image = ee.Image(image.get('lcImage'))\n",
    "    image = ee.Image(image).addBands(lc_image)\n",
    "    return image\n",
    "    \n",
    "annual_masks = landcover_join_result.map(lambda img: extract_lc_joinresult(img))"
   ]
  },
  {
   "cell_type": "markdown",
   "metadata": {},
   "source": [
    "## Begin main processing\n",
    "\n",
    "Now we have defined all the masking and image-processing functions, we can use them to process the surface reflectance data and then implement the core rice-detection algorithm.\n",
    "\n",
    "First we apply all the masking to the incoming SR data. \n",
    "\n",
    "### 1. a. For each image in the incoming filtered MODIS surface reflectance dataset, apply the cloud/snow mask based on that image"
   ]
  },
  {
   "cell_type": "code",
   "execution_count": 87,
   "metadata": {},
   "outputs": [
    {
     "data": {
      "text/plain": [
       "Ellipsis"
      ]
     },
     "execution_count": 87,
     "metadata": {},
     "output_type": "execute_result"
    }
   ],
   "source": [
    "..."
   ]
  },
  {
   "cell_type": "markdown",
   "metadata": {},
   "source": [
    "### 1. b. For each image in the resultant collection, apply the water/evergreen mask for the corresponding year\n",
    "\n",
    "Join based on the year property; extract the join results from properties to bands, and then update the image's mask accordingly."
   ]
  },
  {
   "cell_type": "code",
   "execution_count": 31,
   "metadata": {},
   "outputs": [],
   "source": [
    "get_annual_mask_join = ee.Join.inner()\n",
    "join_res = get_annual_mask_join.apply(**{\n",
    "  \"primary\": masked_modis_series,\n",
    "  \"secondary\": annual_masks,\n",
    "  \"condition\": ee.Filter.equals(**{\n",
    "    \"leftField\": \"year\",\n",
    "    \"rightField\": \"year\"\n",
    "  })\n",
    "})\n",
    "\n",
    "def extract_mask_join_results(feature):\n",
    "    image = ee.Image(feature.get('primary'));\n",
    "    annual_mask = ee.Image(feature.get('secondary'));\n",
    "    masked = (image\n",
    "        .updateMask(annual_mask.select('water'))\n",
    "        .updateMask(annual_mask.select('evergreen'))\n",
    "        .updateMask(annual_mask.select('evergreen_landcover')))\n",
    "    return masked; \n",
    "\n",
    "fully_masked_series = ee.ImageCollection(\n",
    "    join_res.map(lambda img: extract_mask_join_results(img)))\n"
   ]
  },
  {
   "cell_type": "markdown",
   "metadata": {},
   "source": [
    "### 2. Implement rice detection\n",
    "\n",
    "As a reminder the core principle of the algorithm is to track (on a pixel-wise basis) the point at which flooding occurs, and the point at which greening occurs. Where greening occurs within 40 days after flooding, and all the masking conditions are met, this is considered to be an indicator of paddy rice.\n",
    "\n",
    "### 2. a. Identify dates when flooding onset occurs\n",
    "\n",
    "That is, in each image find pixels which are flooded but were not flooded in the previous image"
   ]
  },
  {
   "cell_type": "code",
   "execution_count": 32,
   "metadata": {},
   "outputs": [],
   "source": [
    "# Get a series of binary images showing flooded pixels\n",
    "flooded_images = fully_masked_series.map(\n",
    "    lambda image: computeFlooded(image))\n",
    "\n",
    "# join each is-a-flood image to the previous one temporally\n",
    "save_prev_flood_join = ee.Join.saveFirst(**{\n",
    "  \"matchKey\": \"prevFlood\",\n",
    "  \"ordering\": \"system:time_start\",\n",
    "  \"ascending\": False\n",
    "})\n",
    "\n",
    "floods_with_prev_img = save_prev_flood_join.apply(**{\n",
    "  \"primary\": flooded_images,\n",
    "  \"secondary\": flooded_images,\n",
    "  \"condition\": ee.Filter.greaterThan(**{\n",
    "    \"leftField\": \"system:time_start\",\n",
    "    \"rightField\": \"system:time_start\"\n",
    "  })\n",
    "})\n",
    "\n",
    "# build a collection of images that are 1 where a pixel is flooded now but wasn't in previous image\n",
    "\n",
    "def extract_flood_join_results(joined_image):\n",
    "    prev_image = ee.Image(joined_image.get('prevFlood'))\n",
    "    this_image = ee.Image(joined_image)\n",
    "    is_new_flood = this_image.And(prev_image.Not())\n",
    "    return (is_new_flood.set('system:time_start', \n",
    "                          this_image.get('system:time_start'))\n",
    "            .rename('flood-starts'))\n",
    "\n",
    "flood_initiations = floods_with_prev_img.map(extract_flood_join_results)\n",
    "flood_initiations = ee.ImageCollection(flood_initiations)"
   ]
  },
  {
   "cell_type": "markdown",
   "metadata": {},
   "source": [
    "### 2. b. Identify maximum EVI values reached by each pixel\n",
    "\n",
    "For now, we're doing this as max _ever_ reached in each pixel over the whole series, rather than per crop cycle"
   ]
  },
  {
   "cell_type": "code",
   "execution_count": 33,
   "metadata": {},
   "outputs": [],
   "source": [
    "max_evi_threshold = fully_masked_series.map(\n",
    "    lambda image: computeEVI(image)\n",
    ").max().divide(2.0)"
   ]
  },
  {
   "cell_type": "markdown",
   "metadata": {},
   "source": [
    "### 2. c. Identify pixels where EVI was at least 50% of this maximum value\n",
    "\n",
    "In each image, calculate the EVI and mark the locations where it is at least 50% of the highest EVI value ever recorded in that pixel.\n",
    "\n",
    "At the same time (for convenience) we calculate a DateRange representing the 40 days prior to the date of each image, and attach it to the image."
   ]
  },
  {
   "cell_type": "code",
   "execution_count": 34,
   "metadata": {},
   "outputs": [],
   "source": [
    "def evi_over_threshold(threshold_image, test_image):\n",
    "    forty_days_ago = (ee.Date(test_image.get('system:time_start'))\n",
    "                      .advance(-40, 'day'))\n",
    "    forty_day_window = ee.DateRange(forty_days_ago, \n",
    "                                    test_image.get('system:time_start'))\n",
    "    return (computeEVI(test_image)\n",
    "            .gt(threshold_image)\n",
    "            .rename('high-evi')\n",
    "            .set('system:time_start', \n",
    "                 test_image.get('system:time_start'))\n",
    "            .set('forty_day_window', forty_day_window))\n",
    "\n",
    "evi_over_threshold_mapper = partial(evi_over_threshold, max_evi_threshold)\n",
    "evi_over_threshold_dates = fully_masked_series.map(evi_over_threshold_mapper)\n"
   ]
  },
  {
   "cell_type": "markdown",
   "metadata": {},
   "source": [
    "### 2. d. Identify from the high-EVI pixels those which are within 40 days of a flooding event\n",
    "\n",
    "We do this by joining the high-EVI images to the flood images, based on a key of the forty-day window we calculated.\n",
    "\n",
    "This will provide our output rice estimate map."
   ]
  },
  {
   "cell_type": "code",
   "execution_count": 35,
   "metadata": {},
   "outputs": [],
   "source": [
    "# This join needs to look at more than one preceding image so use a saveAll not saveBest\n",
    "save_flood_onsets_join = ee.Join.saveAll(**{\n",
    "  \"matchesKey\": 'floodsInLast40D',\n",
    "  \"ordering\": 'system:time_start',\n",
    "  \"ascending\": False\n",
    "})\n",
    "\n",
    "green_with_recent_floods = save_flood_onsets_join.apply(**{\n",
    "    \"primary\": evi_over_threshold_dates,\n",
    "    \"secondary\": flood_initiations,\n",
    "    \"condition\": ee.Filter.dateRangeContains(**{\n",
    "        \"leftField\": \"forty_day_window\",\n",
    "        \"rightField\": \"system:time_start\"\n",
    "  })\n",
    "})"
   ]
  },
  {
   "cell_type": "code",
   "execution_count": 36,
   "metadata": {},
   "outputs": [],
   "source": [
    "def extract_rice_join_results(image):\n",
    "    # in the saveAll join, the whole matching set of images are saved onto the \n",
    "    # specified property of each image\n",
    "    recent_floods_coll = ee.ImageCollection.fromImages(image.get('floodsInLast40D'))\n",
    "    any_recent_floods = recent_floods_coll.reduce(ee.Reducer.anyNonZero())\n",
    "    is_it_green = ee.Image(image)\n",
    "    is_it_rice = is_it_green.And(any_recent_floods);\n",
    "    return (is_it_rice.rename('rice')\n",
    "        .set('system:time_start', image.get('system:time_start')))\n",
    "\n",
    "rice_image_collection = green_with_recent_floods.map(extract_rice_join_results)\n",
    "rice_image_collection = ee.ImageCollection(rice_image_collection)"
   ]
  },
  {
   "cell_type": "code",
   "execution_count": 37,
   "metadata": {},
   "outputs": [],
   "source": [
    "rice_in_year = ee.Image(rice_image_collection\n",
    "                        .filterDate(ee.Date.fromYMD(\n",
    "                            YEAR_TO_MAP, 1, 1), ee.Date.fromYMD(YEAR_TO_MAP, 12, 31))\n",
    "                       .reduce(ee.Reducer.anyNonZero()))"
   ]
  },
  {
   "cell_type": "code",
   "execution_count": 38,
   "metadata": {},
   "outputs": [
    {
     "name": "stdout",
     "output_type": "stream",
     "text": [
      "{'type': 'Image', 'bands': [{'id': 'rice_any', 'data_type': {'type': 'PixelType', 'precision': 'int', 'min': 0, 'max': 1}, 'crs': 'EPSG:4326', 'crs_transform': [1, 0, 0, 0, 1, 0]}]}\n"
     ]
    }
   ],
   "source": [
    "print(rice_in_year.getInfo())"
   ]
  },
  {
   "cell_type": "code",
   "execution_count": 43,
   "metadata": {},
   "outputs": [],
   "source": [
    "rice_in_year = rice_in_year.updateMask(rice_in_year)"
   ]
  },
  {
   "cell_type": "code",
   "execution_count": 47,
   "metadata": {},
   "outputs": [],
   "source": [
    "import folium"
   ]
  },
  {
   "cell_type": "code",
   "execution_count": 50,
   "metadata": {},
   "outputs": [],
   "source": [
    "def add_ee_layer(self, ee_image_object, vis_params, name):\n",
    "    map_id_dict = ee.Image(ee_image_object).getMapId(vis_params)\n",
    "    folium.raster_layers.TileLayer(\n",
    "        tiles = map_id_dict['tile_fetcher'].url_format,\n",
    "        attr = \"Map Data © Google Earth Engine\",\n",
    "        name = name,\n",
    "        overlay = True,\n",
    "        control = True\n",
    "    ).add_to(self)\n",
    "folium.Map.add_ee_layer = add_ee_layer"
   ]
  },
  {
   "cell_type": "code",
   "execution_count": 54,
   "metadata": {},
   "outputs": [],
   "source": [
    "rice_map = folium.Map(location=[0, 120], zoom_start=3, height=500)\n",
    "rice_map.add_ee_layer(rice_in_year, {\"palette\":['000000', 'FF0000']}, \"RICE\")"
   ]
  },
  {
   "cell_type": "code",
   "execution_count": 55,
   "metadata": {},
   "outputs": [
    {
     "data": {
      "text/html": [
       "<div style=\"width:100%;\"><div style=\"position:relative;width:100%;height:0;padding-bottom:60%;\"><iframe src=\"data:text/html;charset=utf-8;base64,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\" style=\"position:absolute;width:100%;height:100%;left:0;top:0;border:none !important;\" allowfullscreen webkitallowfullscreen mozallowfullscreen></iframe></div></div>"
      ],
      "text/plain": [
       "<folium.folium.Map at 0x15cf07919a0>"
      ]
     },
     "execution_count": 55,
     "metadata": {},
     "output_type": "execute_result"
    }
   ],
   "source": [
    "rice_map.add_child(folium.LayerControl())"
   ]
  },
  {
   "cell_type": "code",
   "execution_count": null,
   "metadata": {},
   "outputs": [],
   "source": []
  },
  {
   "cell_type": "code",
   "execution_count": 42,
   "metadata": {},
   "outputs": [
    {
     "data": {
      "application/vnd.jupyter.widget-view+json": {
       "model_id": "1f4bc80f3318420c949dbd7c6955bdef",
       "version_major": 2,
       "version_minor": 0
      },
      "text/plain": [
       "Map(center=[40, -100], controls=(WidgetControl(options=['position'], widget=HBox(children=(ToggleButton(value=…"
      ]
     },
     "metadata": {},
     "output_type": "display_data"
    }
   ],
   "source": [
    "Map.addLayerControl() # This line is not needed for ipyleaflet-based Map.\n",
    "Map"
   ]
  },
  {
   "cell_type": "code",
   "execution_count": null,
   "metadata": {},
   "outputs": [],
   "source": []
  }
 ],
 "metadata": {
  "kernelspec": {
   "display_name": "Python 3",
   "language": "python",
   "name": "python3"
  },
  "language_info": {
   "codemirror_mode": {
    "name": "ipython",
    "version": 3
   },
   "file_extension": ".py",
   "mimetype": "text/x-python",
   "name": "python",
   "nbconvert_exporter": "python",
   "pygments_lexer": "ipython3",
   "version": "3.8.6"
  }
 },
 "nbformat": 4,
 "nbformat_minor": 4
}
